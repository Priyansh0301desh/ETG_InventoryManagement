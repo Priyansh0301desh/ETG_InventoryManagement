{
 "cells": [
  {
   "cell_type": "markdown",
   "metadata": {},
   "source": [
    "# Inventory Management System for a grocery shop"
   ]
  },
  {
   "cell_type": "code",
   "execution_count": null,
   "metadata": {},
   "outputs": [],
   "source": [
    "# Fetches the data of products and coupons\n",
    "import json\n",
    "\n",
    "fd = open(\"Records.json\",\"r\")\n",
    "txt = fd.read()\n",
    "prodData = json.loads(txt)\n",
    "\n",
    "fd = open(\"Coupons.json\",\"r\")\n",
    "couponTxt = fd.read()\n",
    "coupons = json.loads(couponTxt)"
   ]
  },
  {
   "cell_type": "markdown",
   "metadata": {},
   "source": [
    "## Product list"
   ]
  },
  {
   "cell_type": "code",
   "execution_count": null,
   "metadata": {},
   "outputs": [],
   "source": [
    "print(\"Products list with their id's :-\\n\")\n",
    "for prod in prodData:\n",
    "    print(prodData[prod]['brand'],prodData[prod]['product'],\"ID:\",prod,)\n",
    "print('\\nCoupons :-')\n",
    "for j in coupons:\n",
    "    print(j,\"quantity-\",coupons[j])\n",
    "print('\\n')"
   ]
  },
  {
   "cell_type": "markdown",
   "metadata": {},
   "source": [
    "## Purchase items"
   ]
  },
  {
   "cell_type": "code",
   "execution_count": null,
   "metadata": {},
   "outputs": [],
   "source": [
    "finalCost = 0\n",
    "finalList = {}\n",
    "while(1):\n",
    "    \n",
    "    choice = input(\"Press 1 to buy | 0 to create bill :- \")\n",
    "    \n",
    "    \n",
    "    if(choice == '1'):\n",
    "        ui_prodID = input(\"Enter the id of product you want to purchase : \")\n",
    "\n",
    "        print(\"****************************************************\")\n",
    "        print(\"Product :- \",prodData[ui_prodID]['brand'],prodData[ui_prodID]['product'])\n",
    "        print(\"Product Cost :- \",prodData[ui_prodID]['cost'],\" Rs.\")\n",
    "        print(\"MRP :-\",prodData[ui_prodID]['mrp'],'Rs.')\n",
    "        print(\"Available Quantity :-\",prodData[ui_prodID]['quantity'])\n",
    "        print(\"Available Coupons :-\",prodData[ui_prodID]['coupon'])\n",
    "        print(\"****************************************************\",end = \"\\n\")\n",
    "\n",
    "        ui_quantity = int(input(\"Enter the quantity you want to purchase : \"))\n",
    "\n",
    "\n",
    "        if(ui_quantity <= prodData[ui_prodID]['quantity'] and prodData[ui_prodID]['quantity']!=0):\n",
    "            prodData[ui_prodID]['quantity'] -= ui_quantity\n",
    "            totalCost = prodData[ui_prodID]['cost']*ui_quantity;\n",
    "\n",
    "            \n",
    "\n",
    "             # code for discount coupon\n",
    "            if(prodData[ui_prodID]['coupon'] != 'none'):\n",
    "                if(input(\"Do you want to use a coupon code(y/n) - \") == 'y'):\n",
    "                    if(coupons[prodData[ui_prodID]['coupon']] != 0):\n",
    "                        if(prodData[ui_prodID]['coupon'] == 'Naruto30'):\n",
    "                            totalCost = totalCost - (totalCost*0.3)\n",
    "                            coupons[prodData[ui_prodID]['coupon']] -= 1\n",
    "                        elif(prodData[ui_prodID]['coupon'] == 'Sakura10'):\n",
    "                            totalCost = totalCost - (totalCost*0.1)\n",
    "                            coupons[prodData[ui_prodID]['coupon']] -= 1\n",
    "                        elif(prodData[ui_prodID]['coupon'] == 'Sasuke20'):\n",
    "                            totalCost = totalCost - (totalCost*0.2)\n",
    "                            coupons[prodData[ui_prodID]['coupon']] -= 1\n",
    "                        elif(prodData[ui_prodID]['coupon'] == 'Kakashi50'):\n",
    "                            totalCost = totalCost - (totalCost*0.5)\n",
    "                            coupons[prodData[ui_prodID]['coupon']] -= 1\n",
    "\n",
    "                        \n",
    "                        \n",
    "    \n",
    "                    else:\n",
    "                        print(\"The coupon has reached its limit\")\n",
    "                \n",
    "                print(\"\\n\")\n",
    "            finalCost += totalCost\n",
    "            finalCost = float(f'{finalCost:.2f}')\n",
    "            finalList[prodData[ui_prodID]['brand']+\" \"+prodData[ui_prodID]['product']] = ui_quantity\n",
    "            print(\"Total cost is :\",totalCost,\"Rs.\")\n",
    "            print(\"-------------------------------------------------\")\n",
    "        else:\n",
    "            print(\"Sorry! the available quantity of the product is:\",prodData[ui_prodID]['quantity'])\n",
    "\n",
    "        \n",
    "    elif(choice == '0'):\n",
    "        totalCost = 0\n",
    "        customerName = input(\"Enter your name - \")\n",
    "        phone = input(\"Enter your number - \")\n",
    "        print(\"\\nBILL :-\")\n",
    "        print(\"---------------------------------\")\n",
    "        print(customerName,\"|\",phone)\n",
    "        print(\"Products purachased :-\")\n",
    "        for i in finalList:\n",
    "            print(i,\"-\",finalList[i])\n",
    "        print('Billing Amount :',finalCost,'Rs.')\n",
    "        print(\"---------------------------------\")\n",
    "        break\n",
    "    else:\n",
    "        print(\"Enter a right choice!\")\n"
   ]
  },
  {
   "cell_type": "markdown",
   "metadata": {},
   "source": [
    "## Update the data of products and coupons"
   ]
  },
  {
   "cell_type": "code",
   "execution_count": null,
   "metadata": {},
   "outputs": [],
   "source": [
    "\n",
    "records = json.dumps(prodData)\n",
    "fd = open(\"Records.json\",\"w\")\n",
    "fd.write(records)\n",
    "fd.close()\n",
    "\n",
    "couponData = json.dumps(coupons)\n",
    "fd = open(\"Coupons.json\",\"w\")\n",
    "fd.write(couponData)\n",
    "fd.close()"
   ]
  },
  {
   "cell_type": "markdown",
   "metadata": {},
   "source": [
    "## Sales"
   ]
  },
  {
   "cell_type": "code",
   "execution_count": null,
   "metadata": {},
   "outputs": [],
   "source": [
    "#Loads the data from Sales.json\n",
    "fd = open(\"Sales.json\",\"r\")\n",
    "txt1 = fd.read()\n",
    "fd.close()\n",
    "saleList = json.loads(txt1)"
   ]
  },
  {
   "cell_type": "code",
   "execution_count": null,
   "metadata": {},
   "outputs": [],
   "source": [
    "import time\n",
    "\n",
    "date = time.ctime(time.time())\n",
    "saleList[date] = {'cName':customerName,'contact':phone,'sales':finalCost}"
   ]
  },
  {
   "cell_type": "code",
   "execution_count": null,
   "metadata": {},
   "outputs": [],
   "source": [
    "for i in saleList:\n",
    "    print(\"Customer:\",saleList[i]['cName'],\"| Contact:\",saleList[i]['contact'],\"| Sale :\",saleList[i]['sales'],\"Rs. on\",i)"
   ]
  },
  {
   "cell_type": "code",
   "execution_count": null,
   "metadata": {},
   "outputs": [],
   "source": [
    "# Stores the sales to Sales.json\n",
    "sales = json.dumps(saleList)\n",
    "fd = open(\"Sales.json\",\"w\")\n",
    "fd.write(sales)\n",
    "fd.close()"
   ]
  },
  {
   "cell_type": "code",
   "execution_count": null,
   "metadata": {},
   "outputs": [],
   "source": []
  }
 ],
 "metadata": {
  "kernelspec": {
   "display_name": "Python 3",
   "language": "python",
   "name": "python3"
  },
  "language_info": {
   "codemirror_mode": {
    "name": "ipython",
    "version": 3
   },
   "file_extension": ".py",
   "mimetype": "text/x-python",
   "name": "python",
   "nbconvert_exporter": "python",
   "pygments_lexer": "ipython3",
   "version": "3.7.4"
  }
 },
 "nbformat": 4,
 "nbformat_minor": 2
}
