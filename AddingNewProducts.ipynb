{
 "cells": [
  {
   "cell_type": "markdown",
   "metadata": {},
   "source": [
    "## Get Records"
   ]
  },
  {
   "cell_type": "code",
   "execution_count": null,
   "metadata": {},
   "outputs": [],
   "source": [
    "# Fetches the data of products and coupons\n",
    "import json\n",
    "\n",
    "fd = open(\"Records.json\",\"r\")\n",
    "txt = fd.read()\n",
    "prodData = json.loads(txt)\n",
    "\n",
    "fd = open(\"Coupons.json\",\"r\")\n",
    "couponTxt = fd.read()\n",
    "coupons = json.loads(couponTxt)\n",
    "\n",
    "## Product list\n",
    "\n",
    "print(\"Products list with their id's :-\\n\")\n",
    "for prod in prodData:\n",
    "    print(prodData[prod]['brand'],prodData[prod]['product'],\"| ID:\",prod,)\n",
    "print('\\nCoupons :-')\n",
    "for j in coupons:\n",
    "    print(j,\"quantity-\",coupons[j])\n",
    "print('\\n')\n"
   ]
  },
  {
   "cell_type": "markdown",
   "metadata": {},
   "source": [
    "## Add products in the inventory"
   ]
  },
  {
   "cell_type": "code",
   "execution_count": null,
   "metadata": {},
   "outputs": [],
   "source": [
    "# Note:- only type \"Naruto30, Sasuke20, Sakura10  ,Kakashi50 or none\" for coupons else the code will fail \n",
    "\n",
    "while(1):\n",
    "    ch = input(\"Enter 1 to add 0 to exit \")\n",
    "    print(\"---------------------------------------------------\")\n",
    "    \n",
    "    if(ch == '1'):\n",
    "        product_id = input(\"Enter id of product : \")\n",
    "        name = input(\"Enter name of product : \")\n",
    "        brand = input(\"Enter brand name : \")\n",
    "        cst = int(input(\"Enter cost : \"))\n",
    "        mrp = int(input(\"Enter mrp : \"))\n",
    "        qn = int(input(\"Enter quantity : \"))\n",
    "        cp = input(\"Enter coupon : \")\n",
    "        print(\"---------------------------------------------------\")\n",
    "        prodData[product_id] = {'product':name,'cost':cst,'quantity':qn,'mrp':mrp,'brand':brand,'coupon':cp}\n",
    "    elif ch == '0':\n",
    "        break\n",
    "    else:\n",
    "        print(\"Enter valid choice!\")"
   ]
  },
  {
   "cell_type": "markdown",
   "metadata": {},
   "source": [
    "## Update the data of products "
   ]
  },
  {
   "cell_type": "code",
   "execution_count": null,
   "metadata": {},
   "outputs": [],
   "source": [
    "records = json.dumps(prodData)\n",
    "fd = open(\"Records.json\",\"w\")\n",
    "fd.write(records)\n",
    "fd.close()"
   ]
  },
  {
   "cell_type": "code",
   "execution_count": null,
   "metadata": {},
   "outputs": [],
   "source": []
  }
 ],
 "metadata": {
  "kernelspec": {
   "display_name": "Python 3",
   "language": "python",
   "name": "python3"
  },
  "language_info": {
   "codemirror_mode": {
    "name": "ipython",
    "version": 3
   },
   "file_extension": ".py",
   "mimetype": "text/x-python",
   "name": "python",
   "nbconvert_exporter": "python",
   "pygments_lexer": "ipython3",
   "version": "3.7.4"
  }
 },
 "nbformat": 4,
 "nbformat_minor": 2
}
